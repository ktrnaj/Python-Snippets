{
 "cells": [
  {
   "cell_type": "markdown",
   "id": "e0483bb7-c794-4c84-bdeb-eec25fdce2dc",
   "metadata": {},
   "source": [
    "#### 1. The hash() function in Python is used to generate a unique integer value (called a hash value) for an object. This function is important in many areas, particularly in data structures like dictionaries and sets, where it helps in quick data retrieval."
   ]
  },
  {
   "cell_type": "markdown",
   "id": "c8c56a4a-87f6-4be7-835f-1ba62c8bf509",
   "metadata": {},
   "source": [
    "##### 1: input(): Reads a line of input from the user.\n",
    "##### 2: .strip(): Removes any leading or trailing whitespace from the input.\n",
    "##### 3: .split(): Splits the input string into a list of substrings based on whitespace.\n",
    "##### 4: map(int, ...): Applies the int function to each substring, converting them to integers.\n",
    "##### 5: list(...): Converts the map object into a list."
   ]
  },
  {
   "cell_type": "code",
   "execution_count": 14,
   "id": "870bf418-f277-49f5-af3e-6b07bfc91c73",
   "metadata": {},
   "outputs": [
    {
     "name": "stdin",
     "output_type": "stream",
     "text": [
      " 2\n",
      " 1 2\n"
     ]
    },
    {
     "name": "stdout",
     "output_type": "stream",
     "text": [
      "-3550055125485641917\n"
     ]
    }
   ],
   "source": [
    "#This ensures that the code block runs only when the script is executed directly, not when imported as a module.\n",
    "if __name__ == '__main__':\n",
    "    #Reads the number of integers that will be input.\n",
    "    n = int(input())  # Read the number of elements\n",
    "    #Reads the space-separated integers, converts them to integers, and returns an iterator.\n",
    "    integer_list = map(int, input().split())  # Read space-separated integers and convert them to integers\n",
    "    \n",
    "    # Create a tuple from the list of integers .. Converts the iterator into a tuple.\n",
    "    t = tuple(integer_list)\n",
    "    \n",
    "    # Compute the hash of the tuple\n",
    "    result = hash(t)\n",
    "    \n",
    "    # Print the hash result\n",
    "    print(result) #Outputs the hash result."
   ]
  },
  {
   "cell_type": "markdown",
   "id": "383d09d4-ad02-4efc-bf3d-1b0786363359",
   "metadata": {},
   "source": [
    "##### 2. NUMPY Function"
   ]
  },
  {
   "cell_type": "markdown",
   "id": "43d0a008-8b90-4270-b205-0b3bf0803bd8",
   "metadata": {},
   "source": [
    "##### You can compute the matrix product of two arrays 𝐴 and 𝐵 using NumPy's dot() function. This function computes the matrix multiplication between two arrays.\n",
    "1.Read the size N of the matrices.\n",
    "\n",
    "2.Input the elements of matrix A and matrix B.\n",
    "\n",
    "3.Use numpy.dot() to compute the matrix product of A and B.\n",
    "\n",
    "4.Print the result"
   ]
  },
  {
   "cell_type": "code",
   "execution_count": 20,
   "id": "7327a9ad-fd42-4b72-ad57-ecb531e8c373",
   "metadata": {},
   "outputs": [
    {
     "name": "stdout",
     "output_type": "stream",
     "text": [
      "11\n"
     ]
    }
   ],
   "source": [
    "import numpy\n",
    "\n",
    "A = numpy.array([1, 2])\n",
    "B = numpy.array([3, 4])\n",
    "\n",
    "print(numpy.dot(A, B))"
   ]
  },
  {
   "cell_type": "code",
   "execution_count": 17,
   "id": "2632a236-1cd7-42d6-83f1-d30f8d1515d8",
   "metadata": {},
   "outputs": [
    {
     "name": "stdout",
     "output_type": "stream",
     "text": [
      "-2\n"
     ]
    }
   ],
   "source": [
    "import numpy\n",
    "\n",
    "A = numpy.array([ 1, 2 ])\n",
    "B = numpy.array([ 3, 4 ])\n",
    "\n",
    "print (numpy.cross(A, B))"
   ]
  },
  {
   "cell_type": "code",
   "execution_count": 19,
   "id": "7ad5f6d8-db33-4619-9d7a-ff01786c6ce8",
   "metadata": {},
   "outputs": [
    {
     "name": "stdin",
     "output_type": "stream",
     "text": [
      " 2\n",
      " 1 2\n",
      " 3 4\n",
      " 1 2\n",
      " 3 4\n"
     ]
    },
    {
     "name": "stdout",
     "output_type": "stream",
     "text": [
      "[[ 7 10]\n",
      " [15 22]]\n"
     ]
    }
   ],
   "source": [
    "import numpy as np\n",
    "\n",
    "# Input the size of the matrices\n",
    "N = int(input())\n",
    "\n",
    "#We first read the integer N, which defines the size of the square matrices.\n",
    "# Input matrix A\n",
    "A = []\n",
    "for _ in range(N):\n",
    "    A.append(list(map(int, input().split())))\n",
    "\n",
    "#We read the next N lines to populate matrix A and the next N lines to populate matrix B.\n",
    "# Input matrix B\n",
    "B = []\n",
    "for _ in range(N):\n",
    "    B.append(list(map(int, input().split())))\n",
    "\n",
    "#We then convert the input lists into NumPy arrays.\n",
    "# Convert lists to numpy arrays\n",
    "A = np.array(A)\n",
    "B = np.array(B)\n",
    "\n",
    "#Using numpy.dot(A, B), we compute the matrix product of A and B.\n",
    "# Compute matrix multiplication\n",
    "result = np.dot(A, B)\n",
    "\n",
    "#we print the result\n",
    "# Output the result\n",
    "print(result)"
   ]
  },
  {
   "cell_type": "code",
   "execution_count": null,
   "id": "41161e41-c09c-4c27-8b71-f58f49732f9f",
   "metadata": {},
   "outputs": [],
   "source": []
  },
  {
   "cell_type": "code",
   "execution_count": 22,
   "id": "7448399e-9eac-4a90-abee-00d246d7c420",
   "metadata": {},
   "outputs": [
    {
     "name": "stdout",
     "output_type": "stream",
     "text": [
      "4\n"
     ]
    }
   ],
   "source": [
    "import numpy\n",
    "\n",
    "A = numpy.array([0, 1])\n",
    "B = numpy.array([3, 4])\n",
    "\n",
    "print (numpy.inner(A, B))     #Output : 4"
   ]
  },
  {
   "cell_type": "code",
   "execution_count": 23,
   "id": "79ff4298-805e-4dfa-8f0b-e13e26ce0a8c",
   "metadata": {},
   "outputs": [
    {
     "name": "stdout",
     "output_type": "stream",
     "text": [
      "[[0 0]\n",
      " [3 4]]\n"
     ]
    }
   ],
   "source": [
    "import numpy\n",
    "\n",
    "A = numpy.array([0, 1])\n",
    "B = numpy.array([3, 4])\n",
    "\n",
    "print (numpy.outer(A, B))"
   ]
  },
  {
   "cell_type": "markdown",
   "id": "a5907574-89ef-42c0-aad9-113173061a39",
   "metadata": {},
   "source": [
    "#### inner product=A[0]×B[0]+A[1]×B[1]\n",
    "\n",
    "#### Substituting the values from A and B:\n",
    "\n",
    "#### inner() = a1 x b1 +a2 X b2 +...+an x bn\n",
    "\n",
    "#### 0×2+1×3=0+3=3"
   ]
  },
  {
   "cell_type": "code",
   "execution_count": 24,
   "id": "bff1bf99-857e-4317-b587-c1e8f53e231f",
   "metadata": {},
   "outputs": [
    {
     "name": "stdout",
     "output_type": "stream",
     "text": [
      "3\n",
      "[[0 0]\n",
      " [2 3]]\n"
     ]
    }
   ],
   "source": [
    "import numpy as np\n",
    "A=np.array([0,1])\n",
    "B=np.array([2,3])\n",
    "\n",
    "print(np.inner(A,B))\n",
    "print(np.outer(A,B))"
   ]
  },
  {
   "cell_type": "markdown",
   "id": "03ef13f1-0cf4-4322-81db-b2c28f9f2570",
   "metadata": {},
   "source": [
    "#### 0x2   0x3       0  0\n",
    "#### 1x2   1x3  =    2  3"
   ]
  },
  {
   "cell_type": "code",
   "execution_count": 31,
   "id": "9c833ae8-9874-460d-8988-4103055b488a",
   "metadata": {},
   "outputs": [
    {
     "name": "stdin",
     "output_type": "stream",
     "text": [
      " 0 1\n",
      " 2 3\n"
     ]
    },
    {
     "name": "stdout",
     "output_type": "stream",
     "text": [
      "3\n",
      "[[0 0]\n",
      " [2 3]]\n"
     ]
    }
   ],
   "source": [
    "## Another Solution:\n",
    "\n",
    "import numpy as np\n",
    "A=np.array(input().split(), dtype=int)\n",
    "B=np.array(input().split(), dtype=int)\n",
    "\n",
    "print(np.inner(A,B))\n",
    "print(np.outer(A,B))"
   ]
  },
  {
   "cell_type": "code",
   "execution_count": null,
   "id": "e2321ab1-b710-4210-a305-00bebb00b655",
   "metadata": {},
   "outputs": [],
   "source": []
  },
  {
   "cell_type": "code",
   "execution_count": null,
   "id": "935d7866-1b64-4556-93b1-f4558ccfe7dc",
   "metadata": {},
   "outputs": [],
   "source": []
  }
 ],
 "metadata": {
  "kernelspec": {
   "display_name": "Python 3 (ipykernel)",
   "language": "python",
   "name": "python3"
  },
  "language_info": {
   "codemirror_mode": {
    "name": "ipython",
    "version": 3
   },
   "file_extension": ".py",
   "mimetype": "text/x-python",
   "name": "python",
   "nbconvert_exporter": "python",
   "pygments_lexer": "ipython3",
   "version": "3.12.3"
  }
 },
 "nbformat": 4,
 "nbformat_minor": 5
}
